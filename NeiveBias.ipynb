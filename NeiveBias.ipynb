{
 "cells": [
  {
   "cell_type": "markdown",
   "id": "5687642b",
   "metadata": {},
   "source": [
    "#  1 - Importing Dataset."
   ]
  },
  {
   "cell_type": "code",
   "execution_count": 33,
   "id": "d057047e",
   "metadata": {},
   "outputs": [],
   "source": [
    "import numpy as np\n",
    "import pandas as pd\n",
    "import json\n",
    "import requests\n",
    "import matplotlib.pyplot as plt\n",
    "plt.style.use('ggplot')\n",
    "import seaborn as sns\n",
    "from sklearn import tree\n",
    "from sklearn.model_selection import train_test_split\n",
    "from sklearn.tree import DecisionTreeRegressor"
   ]
  },
  {
   "cell_type": "code",
   "execution_count": 34,
   "id": "5697dd8d",
   "metadata": {},
   "outputs": [
    {
     "data": {
      "text/html": [
       "<div>\n",
       "<style scoped>\n",
       "    .dataframe tbody tr th:only-of-type {\n",
       "        vertical-align: middle;\n",
       "    }\n",
       "\n",
       "    .dataframe tbody tr th {\n",
       "        vertical-align: top;\n",
       "    }\n",
       "\n",
       "    .dataframe thead th {\n",
       "        text-align: right;\n",
       "    }\n",
       "</style>\n",
       "<table border=\"1\" class=\"dataframe\">\n",
       "  <thead>\n",
       "    <tr style=\"text-align: right;\">\n",
       "      <th></th>\n",
       "      <th>Unnamed: 0</th>\n",
       "      <th>count</th>\n",
       "      <th>hate_speech</th>\n",
       "      <th>offensive_language</th>\n",
       "      <th>neither</th>\n",
       "      <th>class</th>\n",
       "      <th>tweet</th>\n",
       "    </tr>\n",
       "  </thead>\n",
       "  <tbody>\n",
       "    <tr>\n",
       "      <th>0</th>\n",
       "      <td>0</td>\n",
       "      <td>3</td>\n",
       "      <td>0</td>\n",
       "      <td>0</td>\n",
       "      <td>3</td>\n",
       "      <td>2</td>\n",
       "      <td>!!! RT @mayasolovely: As a woman you shouldn't...</td>\n",
       "    </tr>\n",
       "    <tr>\n",
       "      <th>1</th>\n",
       "      <td>1</td>\n",
       "      <td>3</td>\n",
       "      <td>0</td>\n",
       "      <td>3</td>\n",
       "      <td>0</td>\n",
       "      <td>1</td>\n",
       "      <td>!!!!! RT @mleew17: boy dats cold...tyga dwn ba...</td>\n",
       "    </tr>\n",
       "    <tr>\n",
       "      <th>2</th>\n",
       "      <td>2</td>\n",
       "      <td>3</td>\n",
       "      <td>0</td>\n",
       "      <td>3</td>\n",
       "      <td>0</td>\n",
       "      <td>1</td>\n",
       "      <td>!!!!!!! RT @UrKindOfBrand Dawg!!!! RT @80sbaby...</td>\n",
       "    </tr>\n",
       "    <tr>\n",
       "      <th>3</th>\n",
       "      <td>3</td>\n",
       "      <td>3</td>\n",
       "      <td>0</td>\n",
       "      <td>2</td>\n",
       "      <td>1</td>\n",
       "      <td>1</td>\n",
       "      <td>!!!!!!!!! RT @C_G_Anderson: @viva_based she lo...</td>\n",
       "    </tr>\n",
       "    <tr>\n",
       "      <th>4</th>\n",
       "      <td>4</td>\n",
       "      <td>6</td>\n",
       "      <td>0</td>\n",
       "      <td>6</td>\n",
       "      <td>0</td>\n",
       "      <td>1</td>\n",
       "      <td>!!!!!!!!!!!!! RT @ShenikaRoberts: The shit you...</td>\n",
       "    </tr>\n",
       "  </tbody>\n",
       "</table>\n",
       "</div>"
      ],
      "text/plain": [
       "   Unnamed: 0  count  hate_speech  offensive_language  neither  class  \\\n",
       "0           0      3            0                   0        3      2   \n",
       "1           1      3            0                   3        0      1   \n",
       "2           2      3            0                   3        0      1   \n",
       "3           3      3            0                   2        1      1   \n",
       "4           4      6            0                   6        0      1   \n",
       "\n",
       "                                               tweet  \n",
       "0  !!! RT @mayasolovely: As a woman you shouldn't...  \n",
       "1  !!!!! RT @mleew17: boy dats cold...tyga dwn ba...  \n",
       "2  !!!!!!! RT @UrKindOfBrand Dawg!!!! RT @80sbaby...  \n",
       "3  !!!!!!!!! RT @C_G_Anderson: @viva_based she lo...  \n",
       "4  !!!!!!!!!!!!! RT @ShenikaRoberts: The shit you...  "
      ]
     },
     "execution_count": 34,
     "metadata": {},
     "output_type": "execute_result"
    }
   ],
   "source": [
    "#Loading Labeled Dataset with hate tweets IDs\n",
    "data =  pd.read_csv('twitter_data.csv')\n",
    "data.head()"
   ]
  },
  {
   "cell_type": "markdown",
   "id": "6aa3f571",
   "metadata": {},
   "source": [
    "# 2 - ARRANGE DATA INTO FEATURES AND TARGET"
   ]
  },
  {
   "cell_type": "code",
   "execution_count": 35,
   "id": "25aaaca4",
   "metadata": {},
   "outputs": [],
   "source": [
    "features = ['count','hate_speech','offensive_language','neither']\n",
    "X = data.loc[:, features]\n",
    "Y = data.loc[:, ['class']]\n"
   ]
  },
  {
   "cell_type": "code",
   "execution_count": 36,
   "id": "e0cc16d4",
   "metadata": {},
   "outputs": [
    {
     "data": {
      "text/html": [
       "<div>\n",
       "<style scoped>\n",
       "    .dataframe tbody tr th:only-of-type {\n",
       "        vertical-align: middle;\n",
       "    }\n",
       "\n",
       "    .dataframe tbody tr th {\n",
       "        vertical-align: top;\n",
       "    }\n",
       "\n",
       "    .dataframe thead th {\n",
       "        text-align: right;\n",
       "    }\n",
       "</style>\n",
       "<table border=\"1\" class=\"dataframe\">\n",
       "  <thead>\n",
       "    <tr style=\"text-align: right;\">\n",
       "      <th></th>\n",
       "      <th>count</th>\n",
       "      <th>hate_speech</th>\n",
       "      <th>offensive_language</th>\n",
       "      <th>neither</th>\n",
       "    </tr>\n",
       "  </thead>\n",
       "  <tbody>\n",
       "    <tr>\n",
       "      <th>0</th>\n",
       "      <td>3</td>\n",
       "      <td>0</td>\n",
       "      <td>0</td>\n",
       "      <td>3</td>\n",
       "    </tr>\n",
       "    <tr>\n",
       "      <th>1</th>\n",
       "      <td>3</td>\n",
       "      <td>0</td>\n",
       "      <td>3</td>\n",
       "      <td>0</td>\n",
       "    </tr>\n",
       "    <tr>\n",
       "      <th>2</th>\n",
       "      <td>3</td>\n",
       "      <td>0</td>\n",
       "      <td>3</td>\n",
       "      <td>0</td>\n",
       "    </tr>\n",
       "    <tr>\n",
       "      <th>3</th>\n",
       "      <td>3</td>\n",
       "      <td>0</td>\n",
       "      <td>2</td>\n",
       "      <td>1</td>\n",
       "    </tr>\n",
       "    <tr>\n",
       "      <th>4</th>\n",
       "      <td>6</td>\n",
       "      <td>0</td>\n",
       "      <td>6</td>\n",
       "      <td>0</td>\n",
       "    </tr>\n",
       "    <tr>\n",
       "      <th>...</th>\n",
       "      <td>...</td>\n",
       "      <td>...</td>\n",
       "      <td>...</td>\n",
       "      <td>...</td>\n",
       "    </tr>\n",
       "    <tr>\n",
       "      <th>24778</th>\n",
       "      <td>3</td>\n",
       "      <td>0</td>\n",
       "      <td>2</td>\n",
       "      <td>1</td>\n",
       "    </tr>\n",
       "    <tr>\n",
       "      <th>24779</th>\n",
       "      <td>3</td>\n",
       "      <td>0</td>\n",
       "      <td>1</td>\n",
       "      <td>2</td>\n",
       "    </tr>\n",
       "    <tr>\n",
       "      <th>24780</th>\n",
       "      <td>3</td>\n",
       "      <td>0</td>\n",
       "      <td>3</td>\n",
       "      <td>0</td>\n",
       "    </tr>\n",
       "    <tr>\n",
       "      <th>24781</th>\n",
       "      <td>6</td>\n",
       "      <td>0</td>\n",
       "      <td>6</td>\n",
       "      <td>0</td>\n",
       "    </tr>\n",
       "    <tr>\n",
       "      <th>24782</th>\n",
       "      <td>3</td>\n",
       "      <td>0</td>\n",
       "      <td>0</td>\n",
       "      <td>3</td>\n",
       "    </tr>\n",
       "  </tbody>\n",
       "</table>\n",
       "<p>24783 rows × 4 columns</p>\n",
       "</div>"
      ],
      "text/plain": [
       "       count  hate_speech  offensive_language  neither\n",
       "0          3            0                   0        3\n",
       "1          3            0                   3        0\n",
       "2          3            0                   3        0\n",
       "3          3            0                   2        1\n",
       "4          6            0                   6        0\n",
       "...      ...          ...                 ...      ...\n",
       "24778      3            0                   2        1\n",
       "24779      3            0                   1        2\n",
       "24780      3            0                   3        0\n",
       "24781      6            0                   6        0\n",
       "24782      3            0                   0        3\n",
       "\n",
       "[24783 rows x 4 columns]"
      ]
     },
     "execution_count": 36,
     "metadata": {},
     "output_type": "execute_result"
    }
   ],
   "source": [
    "#Print the features\n",
    "X"
   ]
  },
  {
   "cell_type": "code",
   "execution_count": 37,
   "id": "d907023e",
   "metadata": {},
   "outputs": [
    {
     "name": "stderr",
     "output_type": "stream",
     "text": [
      "C:\\Users\\subha\\anaconda3\\lib\\site-packages\\seaborn\\_decorators.py:36: FutureWarning: Pass the following variable as a keyword arg: x. From version 0.12, the only valid positional argument will be `data`, and passing other arguments without an explicit keyword will result in an error or misinterpretation.\n",
      "  warnings.warn(\n"
     ]
    },
    {
     "data": {
      "image/png": "[encoded data removed]",
      "text/plain": [
       "<Figure size 432x288 with 1 Axes>"
      ]
     },
     "metadata": {},
     "output_type": "display_data"
    }
   ],
   "source": [
    "# creating feature bar plot\n",
    "\n",
    "ax = sns.countplot(data['class'], palette='Set2')\n",
    "\n",
    "ax.set_title('Tweet count Differente Label',fontsize = 12)\n",
    "ax.set_xlabel('Type of Tweet',fontsize = 15)\n",
    "ax.set_ylabel('Count',fontsize = 15)\n",
    "\n",
    "ax.set_xticklabels(['Hate_speech ','Offensive_language', 'Neither'],fontsize = 11)\n",
    "\n",
    "total = float(len(data)) # one person per row "
   ]
  },
  {
   "cell_type": "code",
   "execution_count": 38,
   "id": "ff8526e8",
   "metadata": {},
   "outputs": [
    {
     "data": {
      "image/png": "[encoded data removed]",
      "text/plain": [
       "<Figure size 432x288 with 1 Axes>"
      ]
     },
     "metadata": {},
     "output_type": "display_data"
    },
    {
     "data": {
      "text/plain": [
       "<function matplotlib.pyplot.show(close=None, block=None)>"
      ]
     },
     "execution_count": 38,
     "metadata": {},
     "output_type": "execute_result"
    },
    {
     "data": {
      "image/png": "[encoded data removed]",
      "text/plain": [
       "<Figure size 432x288 with 1 Axes>"
      ]
     },
     "metadata": {},
     "output_type": "display_data"
    }
   ],
   "source": [
    "# from matplotlib import pyplot as plt\n",
    "\n",
    "xaxis = ['hate_speech']\n",
    "yaxis=['offensive_language']\n",
    "zaxis=['neither']\n",
    "\n",
    "plt.plot(xaxis,yaxis,color='g',linestyle=':',linewidth=2.5)\n",
    "plt.plot(xaxis,zaxis,color='r',linestyle='-',linewidth=1.3)\n",
    "plt.title(\"Line Plot\")\n",
    "plt.xlabel(\"x-axis\")\n",
    "plt.ylabel(\"y-axis\")\n",
    "plt.grid(True)\n",
    "plt.show()\n",
    "plt.plot(xaxis, yaxis)\n",
    "plt.show\n",
    "# plt.subplot(1,2,1)\n",
    "# plt.plot(xaxis,yaxis,color='g',linestyle=':',linewidth=2)\n",
    "# plt.subplot(1,2,2)\n",
    "# plt.plot(xaxis,zaxis,color='r',linestyle=':',linewidth=2)\n",
    "# plt.show()"
   ]
  },
  {
   "cell_type": "code",
   "execution_count": 39,
   "id": "8d66dc62",
   "metadata": {},
   "outputs": [
    {
     "data": {
      "text/html": [
       "<div>\n",
       "<style scoped>\n",
       "    .dataframe tbody tr th:only-of-type {\n",
       "        vertical-align: middle;\n",
       "    }\n",
       "\n",
       "    .dataframe tbody tr th {\n",
       "        vertical-align: top;\n",
       "    }\n",
       "\n",
       "    .dataframe thead th {\n",
       "        text-align: right;\n",
       "    }\n",
       "</style>\n",
       "<table border=\"1\" class=\"dataframe\">\n",
       "  <thead>\n",
       "    <tr style=\"text-align: right;\">\n",
       "      <th></th>\n",
       "      <th>class</th>\n",
       "    </tr>\n",
       "  </thead>\n",
       "  <tbody>\n",
       "    <tr>\n",
       "      <th>0</th>\n",
       "      <td>2</td>\n",
       "    </tr>\n",
       "    <tr>\n",
       "      <th>1</th>\n",
       "      <td>1</td>\n",
       "    </tr>\n",
       "    <tr>\n",
       "      <th>2</th>\n",
       "      <td>1</td>\n",
       "    </tr>\n",
       "    <tr>\n",
       "      <th>3</th>\n",
       "      <td>1</td>\n",
       "    </tr>\n",
       "    <tr>\n",
       "      <th>4</th>\n",
       "      <td>1</td>\n",
       "    </tr>\n",
       "    <tr>\n",
       "      <th>...</th>\n",
       "      <td>...</td>\n",
       "    </tr>\n",
       "    <tr>\n",
       "      <th>24778</th>\n",
       "      <td>1</td>\n",
       "    </tr>\n",
       "    <tr>\n",
       "      <th>24779</th>\n",
       "      <td>2</td>\n",
       "    </tr>\n",
       "    <tr>\n",
       "      <th>24780</th>\n",
       "      <td>1</td>\n",
       "    </tr>\n",
       "    <tr>\n",
       "      <th>24781</th>\n",
       "      <td>1</td>\n",
       "    </tr>\n",
       "    <tr>\n",
       "      <th>24782</th>\n",
       "      <td>2</td>\n",
       "    </tr>\n",
       "  </tbody>\n",
       "</table>\n",
       "<p>24783 rows × 1 columns</p>\n",
       "</div>"
      ],
      "text/plain": [
       "       class\n",
       "0          2\n",
       "1          1\n",
       "2          1\n",
       "3          1\n",
       "4          1\n",
       "...      ...\n",
       "24778      1\n",
       "24779      2\n",
       "24780      1\n",
       "24781      1\n",
       "24782      2\n",
       "\n",
       "[24783 rows x 1 columns]"
      ]
     },
     "execution_count": 39,
     "metadata": {},
     "output_type": "execute_result"
    }
   ],
   "source": [
    "#print the test\n",
    "Y"
   ]
  },
  {
   "cell_type": "code",
   "execution_count": 40,
   "id": "1b4349aa",
   "metadata": {},
   "outputs": [
    {
     "data": {
      "image/png": "[encoded data removed]",
      "text/plain": [
       "<Figure size 432x288 with 1 Axes>"
      ]
     },
     "metadata": {},
     "output_type": "display_data"
    }
   ],
   "source": [
    "\n",
    "\n",
    "plt.plot(Y, 'o:r')\n",
    "plt.show()"
   ]
  },
  {
   "cell_type": "code",
   "execution_count": 41,
   "id": "82e8b2e5",
   "metadata": {},
   "outputs": [
    {
     "name": "stderr",
     "output_type": "stream",
     "text": [
      "C:\\Users\\subha\\anaconda3\\lib\\site-packages\\seaborn\\_decorators.py:36: FutureWarning: Pass the following variable as a keyword arg: x. From version 0.12, the only valid positional argument will be `data`, and passing other arguments without an explicit keyword will result in an error or misinterpretation.\n",
      "  warnings.warn(\n"
     ]
    },
    {
     "data": {
      "image/png": "[encoded data removed]",
      "text/plain": [
       "<Figure size 432x288 with 1 Axes>"
      ]
     },
     "metadata": {},
     "output_type": "display_data"
    }
   ],
   "source": [
    "\n",
    "\n",
    "# Class Imbalance \n",
    "\n",
    "# fig, ax = plt.subplots(figsize=(10,6))\n",
    "ax = sns.countplot(data['class'], palette='Set2')\n",
    "\n",
    "ax.set_title('Tweet count Differente class',fontsize = 15)\n",
    "ax.set_xlabel('Type of Tweet',fontsize = 15)\n",
    "ax.set_ylabel('Count',fontsize = 15)\n",
    "# ax.set_xticklabels(['Hate_speech (0)','Offensive_language(1)', 'Neither(2)'],fontsize = 13)\n",
    "\n",
    "total = float(len(data)) # one person per row \n"
   ]
  },
  {
   "cell_type": "markdown",
   "id": "4f2e9482",
   "metadata": {},
   "source": [
    "## 3- SPLIT DATA INTO TRAINING AND TESTING SETS"
   ]
  },
  {
   "cell_type": "code",
   "execution_count": 42,
   "id": "f93f0cc0",
   "metadata": {},
   "outputs": [],
   "source": [
    "X_train, X_test, Y_train, Y_test = train_test_split(X, Y, random_state=0, train_size = .75)\n"
   ]
  },
  {
   "cell_type": "code",
   "execution_count": 43,
   "id": "e264f209",
   "metadata": {},
   "outputs": [
    {
     "data": {
      "text/plain": [
       "(18587, 4)"
      ]
     },
     "execution_count": 43,
     "metadata": {},
     "output_type": "execute_result"
    }
   ],
   "source": [
    "X_train.shape\n"
   ]
  },
  {
   "cell_type": "code",
   "execution_count": 44,
   "id": "48045dfd",
   "metadata": {},
   "outputs": [
    {
     "data": {
      "text/plain": [
       "(6196, 4)"
      ]
     },
     "execution_count": 44,
     "metadata": {},
     "output_type": "execute_result"
    }
   ],
   "source": [
    "X_test.shape"
   ]
  },
  {
   "cell_type": "code",
   "execution_count": 45,
   "id": "e2a56d9b",
   "metadata": {},
   "outputs": [
    {
     "data": {
      "text/plain": [
       "(18587, 1)"
      ]
     },
     "execution_count": 45,
     "metadata": {},
     "output_type": "execute_result"
    }
   ],
   "source": [
    "Y_train.shape\n"
   ]
  },
  {
   "cell_type": "code",
   "execution_count": 46,
   "id": "7f36a1e2",
   "metadata": {},
   "outputs": [
    {
     "data": {
      "text/plain": [
       "(6196, 1)"
      ]
     },
     "execution_count": 46,
     "metadata": {},
     "output_type": "execute_result"
    }
   ],
   "source": [
    "Y_test.shape"
   ]
  },
  {
   "cell_type": "code",
   "execution_count": 95,
   "id": "cce9af35",
   "metadata": {
    "scrolled": false
   },
   "outputs": [],
   "source": [
    "# plt.plot(Y_train,Y_train)\n",
    "# plt.title('x vs y')\n",
    "# plt.xlabel('This is x axis')\n",
    "# plt.ylabel('This is y axis')"
   ]
  },
  {
   "cell_type": "code",
   "execution_count": 96,
   "id": "6159b1d1",
   "metadata": {},
   "outputs": [],
   "source": [
    "# plt.subplot(1,2,1)\n",
    "# plt.plot(X_train,X_train,color='g',linestyle=':',linewidth=2)\n",
    "# plt.subplot(1,2,2)\n",
    "# plt.plot(X_test,X_test,color='r',linestyle=':',linewidth=2)\n",
    "# plt.show()"
   ]
  },
  {
   "cell_type": "code",
   "execution_count": 97,
   "id": "1e9929ab",
   "metadata": {},
   "outputs": [
    {
     "data": {
      "image/png": "[encoded data removed]",
      "text/plain": [
       "<Figure size 432x288 with 1 Axes>"
      ]
     },
     "metadata": {},
     "output_type": "display_data"
    }
   ],
   "source": [
    "plt.scatter(X_train,X_train)\n",
    "plt.show()"
   ]
  },
  {
   "cell_type": "code",
   "execution_count": 54,
   "id": "1d55fb07",
   "metadata": {},
   "outputs": [
    {
     "data": {
      "text/plain": [
       "([<matplotlib.patches.Wedge at 0x1e4fe603bb0>,\n",
       "  <matplotlib.patches.Wedge at 0x1e4fe6100d0>,\n",
       "  <matplotlib.patches.Wedge at 0x1e4fe6105b0>,\n",
       "  <matplotlib.patches.Wedge at 0x1e4fe6109d0>],\n",
       " [Text(0.7203467861122989, 0.8313245501834299, 'class'),\n",
       "  Text(-0.6592054706385213, 0.8805953369625833, 'hate_speech'),\n",
       "  Text(-0.5947048283136996, -0.9253789316708985, 'offensive_language'),\n",
       "  Text(1.0306447473965061, -0.38441046378056937, 'neither')])"
      ]
     },
     "execution_count": 54,
     "metadata": {},
     "output_type": "execute_result"
    },
    {
     "data": {
      "image/png": "[encoded data removed]",
      "text/plain": [
       "<Figure size 432x288 with 1 Axes>"
      ]
     },
     "metadata": {},
     "output_type": "display_data"
    }
   ],
   "source": [
    "features = ['class','hate_speech','offensive_language','neither']\n",
    "quantity = [60,35,100,25]\n",
    "plt.pie(quantity,labels=features)\n",
    "\n",
    "\n",
    "\n",
    "# X = data.loc[:, features]\n",
    "# Y = data.loc[:, ['class']]\n"
   ]
  },
  {
   "cell_type": "code",
   "execution_count": 52,
   "id": "2e3439ce",
   "metadata": {},
   "outputs": [
    {
     "data": {
      "text/plain": [
       "([<matplotlib.patches.Wedge at 0x1e4fe5c7430>],\n",
       " [Text(-1.6500000000000001, 2.020667218593133e-16, '')])"
      ]
     },
     "execution_count": 52,
     "metadata": {},
     "output_type": "execute_result"
    },
    {
     "data": {
      "image/png": "[encoded data removed]",
      "text/plain": [
       "<Figure size 432x288 with 1 Axes>"
      ]
     },
     "metadata": {},
     "output_type": "display_data"
    }
   ],
   "source": [
    "#making plot\n",
    "plt.pie(quantity,labels=features,radius=2)\n",
    "plt.pie([1],colors=['w'],radius=1.5)"
   ]
  },
  {
   "cell_type": "code",
   "execution_count": 67,
   "id": "d3a22137",
   "metadata": {},
   "outputs": [],
   "source": [
    "# sns.lineplot(x='features',y='class',hue='event')"
   ]
  },
  {
   "cell_type": "code",
   "execution_count": null,
   "id": "3f05dd2e",
   "metadata": {},
   "outputs": [],
   "source": []
  },
  {
   "cell_type": "code",
   "execution_count": null,
   "id": "5608d43b",
   "metadata": {},
   "outputs": [],
   "source": []
  },
  {
   "cell_type": "code",
   "execution_count": null,
   "id": "5a93636b",
   "metadata": {},
   "outputs": [],
   "source": []
  },
  {
   "cell_type": "markdown",
   "id": "ed5a1f54",
   "metadata": {},
   "source": []
  },
  {
   "cell_type": "markdown",
   "id": "6c3a7fe6",
   "metadata": {},
   "source": [
    "## 4  implementation of algorithms "
   ]
  },
  {
   "cell_type": "code",
   "execution_count": 58,
   "id": "311205c1",
   "metadata": {},
   "outputs": [],
   "source": [
    "# import necessary functions and libraries.\n",
    "import nltk\n",
    "from nltk.corpus import twitter_samples\n",
    "from nltk.corpus import stopwords\n",
    "\n",
    "import numpy as np"
   ]
  },
  {
   "cell_type": "code",
   "execution_count": 60,
   "id": "8db3109c",
   "metadata": {},
   "outputs": [
    {
     "name": "stderr",
     "output_type": "stream",
     "text": [
      "[nltk_data] Downloading package twitter_samples to\n",
      "[nltk_data]     C:\\Users\\subha\\AppData\\Roaming\\nltk_data...\n",
      "[nltk_data]   Package twitter_samples is already up-to-date!\n",
      "[nltk_data] Downloading package stopwords to\n",
      "[nltk_data]     C:\\Users\\subha\\AppData\\Roaming\\nltk_data...\n",
      "[nltk_data]   Package stopwords is already up-to-date!\n"
     ]
    },
    {
     "data": {
      "text/plain": [
       "True"
      ]
     },
     "execution_count": 60,
     "metadata": {},
     "output_type": "execute_result"
    }
   ],
   "source": [
    "# download the dataset and the stopwords from nltk.\n",
    "nltk.download('twitter_samples')\n",
    "nltk.download('stopwords')"
   ]
  },
  {
   "cell_type": "code",
   "execution_count": 61,
   "id": "4f3b5663",
   "metadata": {},
   "outputs": [],
   "source": [
    "# load the text fields of the positive and negative tweets\n",
    "all_positive_tweets = twitter_samples.strings('positive_tweets.json')\n",
    "all_negative_tweets = twitter_samples.strings('negative_tweets.json')"
   ]
  },
  {
   "cell_type": "code",
   "execution_count": 62,
   "id": "6e4437b8",
   "metadata": {},
   "outputs": [],
   "source": [
    "# show some tweet\n",
    "np.random.seed(1)\n",
    "rand = np.random.randint(0,5000,5)"
   ]
  },
  {
   "cell_type": "code",
   "execution_count": 75,
   "id": "4bfaef3d",
   "metadata": {},
   "outputs": [
    {
     "name": "stdout",
     "output_type": "stream",
     "text": [
      "Positive tweets::\n",
      "\u001b[92m\n",
      "@ZarlashtFaisal @Tabinda_Samar Sethi was HIGH ??? :)\n",
      "Fav if awake fam :)\n",
      "Just smile even your in Pain :) http://t.co/AxTiqf0xek\n",
      "camillus pleaseee? :)\n",
      "Why have i just painted my nails pink :) ???\n"
     ]
    }
   ],
   "source": [
    "# print positive tweet\n",
    "print('Positive tweets::')\n",
    "print('\\033[92m')  #//for green color\n",
    "for i in rand:\n",
    "    print(all_positive_tweets[i])"
   ]
  },
  {
   "cell_type": "code",
   "execution_count": 76,
   "id": "00038b11",
   "metadata": {},
   "outputs": [
    {
     "name": "stdout",
     "output_type": "stream",
     "text": [
      "negative tweets::\n",
      "\u001b[91m\n",
      "I need a big cuddle from Lew and kisses on my face :(((( I don't want to go through this again\n",
      "@kaiality too late now :(\n",
      "traffic :-(\n",
      "Soft defence by the best defensive team there :( #NRLTigersRoosters\n",
      "@LukeBryanOnline Yayyyy!!! I hope it's not while I am knocked out by anesthesia. I will be so sad if I miss it :(\n"
     ]
    }
   ],
   "source": [
    "# print negativee tweet\n",
    "print('negative tweets::')\n",
    "print('\\033[91m') #////for red color\n",
    "for i in rand:\n",
    "    print(all_negative_tweets[i])"
   ]
  },
  {
   "cell_type": "code",
   "execution_count": 77,
   "id": "0c13d9fc",
   "metadata": {},
   "outputs": [],
   "source": [
    "import re\n",
    "import string\n",
    "\n",
    "from nltk.tokenize import TweetTokenizer\n",
    "from nltk.stem import PorterStemmer\n",
    "from nltk.corpus import stopwords\n",
    "\n",
    "def process_tweet(tweet):\n",
    "  stemmer = PorterStemmer() \n",
    "  stopwords_english = stopwords.words('english')\n",
    "\n",
    "  # remove the stock market tickers\n",
    "  tweet = re.sub(r'\\$\\w*', '', tweet)\n",
    "\n",
    "  # remove the old styles retweet text 'RT'\n",
    "  tweet = re.sub(r'^RT[\\s]+', '', tweet)\n",
    "\n",
    "  # remove the hyperlinks\n",
    "  tweet = re.sub(r'https?:\\/\\/.*[\\r\\n]*', '', tweet)\n",
    "\n",
    "  # remove the # symbol\n",
    "  tweet = re.sub(r'#', '', tweet)\n",
    "\n",
    "  # Tokenize the tweet\n",
    "  tokenizer = TweetTokenizer(preserve_case=False, reduce_len=True, strip_handles=True)\n",
    "  tweet_tokens = tokenizer.tokenize(tweet)\n",
    "\n",
    "  tweet_clean = []\n",
    "\n",
    "  # removing stopwords and punctuation\n",
    "  for word in tweet_tokens:\n",
    "    if (word not in stopwords_english and\n",
    "        word not in string.punctuation):\n",
    "      stem_word = stemmer.stem(word)    #stemming\n",
    "      tweet_clean.append(stem_word)\n",
    "\n",
    "  return tweet_clean"
   ]
  },
  {
   "cell_type": "code",
   "execution_count": 78,
   "id": "725cd5c4",
   "metadata": {},
   "outputs": [
    {
     "name": "stdout",
     "output_type": "stream",
     "text": [
      "Raw tweet :\n",
      " @heyoppar @Zain9898 @bemybelief @hetthuocchua there's gonna be another one in the finale :)))))\n",
      "After processing the tweet: \n",
      " [\"there'\", 'gonna', 'anoth', 'one', 'final', ':)']\n"
     ]
    }
   ],
   "source": [
    "# process_tweet on a random tweet from the dataset\n",
    "tweet = all_positive_tweets[np.random.randint(0,5000)]\n",
    "print('Raw tweet :\\n',tweet)\n",
    "tweet = process_tweet(tweet)\n",
    "print('After processing the tweet: \\n', tweet)\n"
   ]
  },
  {
   "cell_type": "code",
   "execution_count": 79,
   "id": "c32494b4",
   "metadata": {},
   "outputs": [],
   "source": [
    "def count_tweets(tweets, ys):\n",
    "  ys_list = np.squeeze(ys).tolist()\n",
    "  freqs ={}\n",
    "\n",
    "  for y, tweet in zip(ys_list, tweets):\n",
    "    for word in process_tweet(tweet):\n",
    "      pair = (word, y)\n",
    "      if pair in freqs:\n",
    "        freqs[pair] +=1\n",
    "      else:\n",
    "        freqs[pair] = 1\n",
    "  \n",
    "  return freqs"
   ]
  },
  {
   "cell_type": "code",
   "execution_count": 80,
   "id": "7c9a16df",
   "metadata": {},
   "outputs": [],
   "source": [
    "# splitting the data for training and testing \n",
    "train_pos = all_positive_tweets[:4000]\n",
    "test_pos = all_positive_tweets[4000:]\n",
    "\n",
    "train_neg = all_negative_tweets[:4000]\n",
    "test_neg = all_negative_tweets[4000:]\n",
    "\n",
    "train_x = train_pos + train_neg\n",
    "test_x = test_pos + test_neg\n",
    "\n",
    "# numpy array for the labels in the training set\n",
    "train_y = np.append(np.ones((len(train_pos))), np.zeros((len(train_neg))))\n",
    "test_y = np.append(np.ones((len(test_neg))), np.zeros((len(test_neg))))"
   ]
  },
  {
   "cell_type": "code",
   "execution_count": 81,
   "id": "58420321",
   "metadata": {},
   "outputs": [],
   "source": [
    "def lookup(freqs, word, label):\n",
    "  n = 0\n",
    "  pair = (word, label)\n",
    "  if pair in freqs:\n",
    "    n = freqs[pair]\n",
    "  return n "
   ]
  },
  {
   "cell_type": "code",
   "execution_count": 82,
   "id": "a88453e7",
   "metadata": {},
   "outputs": [],
   "source": [
    "# Build a frequency dictionary\n",
    "freqs = count_tweets(train_x, train_y)\n",
    "\n",
    "def train_naive_bayes(freqs, train_x, train_y):\n",
    "  logliklihood = {}\n",
    "  logprior = 0\n",
    "\n",
    "  # calculate V, number of unique words in the vocabulary\n",
    "  vocab = set([pair[0] for pair in freqs.keys()])\n",
    "  V = len(vocab)\n",
    "\n",
    "  ## Calculate N_pos, N_neg, V_pos, V_neg\n",
    "  # N_pos : total number of positive words\n",
    "  # N_neg : total number of negative words\n",
    "  # V_pos : total number of unique positive words\n",
    "  # V_neg : total number of unique negative words\n",
    "\n",
    "  N_pos = N_neg = V_pos = V_neg = 0\n",
    "  for pair in freqs.keys():\n",
    "    if pair[1]>0:\n",
    "      V_pos +=1\n",
    "      N_pos += freqs[pair]\n",
    "    else:\n",
    "      V_neg +=1\n",
    "      N_neg += freqs[pair]\n",
    "\n",
    "  # Number of Documents (tweets)\n",
    "  D = len(train_y)\n",
    "\n",
    "  # D_pos, number of positive documnets\n",
    "  D_pos = len(list(filter(lambda x: x>0, train_y)))\n",
    "\n",
    "  # D_pos, number of negative documnets\n",
    "  D_neg = len(list(filter(lambda x: x<=0, train_y)))\n",
    "\n",
    "  # calculate the logprior\n",
    "  logprior = np.log(D_pos) - np.log(D_neg)\n",
    "\n",
    "  for word in vocab:\n",
    "    freqs_pos = lookup(freqs, word, 1)\n",
    "    freqs_neg = lookup(freqs, word, 0)\n",
    "\n",
    "    # calculte the probability of each word being positive and negative\n",
    "    p_w_pos = (freqs_pos+1)/(N_pos+V)\n",
    "    p_w_neg = (freqs_neg+1)/(N_neg+V)\n",
    "\n",
    "    logliklihood[word] = np.log(p_w_pos/p_w_neg)\n",
    "  \n",
    "  return logprior, logliklihood"
   ]
  },
  {
   "cell_type": "code",
   "execution_count": 83,
   "id": "92c51da5",
   "metadata": {},
   "outputs": [
    {
     "name": "stdout",
     "output_type": "stream",
     "text": [
      "0.0\n",
      "9086\n"
     ]
    }
   ],
   "source": [
    "logprior, loglikelihood = train_naive_bayes(freqs, train_x, train_y)\n",
    "print(logprior)\n",
    "print(len(loglikelihood))"
   ]
  },
  {
   "cell_type": "code",
   "execution_count": 84,
   "id": "b6e6d710",
   "metadata": {},
   "outputs": [],
   "source": [
    "def naive_bayes_predict(tweet, logprior, loglikelihood):\n",
    "  word_l = process_tweet(tweet)\n",
    "  p = 0\n",
    "  p+=logprior\n",
    "\n",
    "  for word in word_l:\n",
    "    if word in loglikelihood:\n",
    "      p+=loglikelihood[word]\n",
    "\n",
    "  return p"
   ]
  },
  {
   "cell_type": "code",
   "execution_count": 92,
   "id": "21562222",
   "metadata": {},
   "outputs": [
    {
     "name": "stdout",
     "output_type": "stream",
     "text": [
      "Naive Bayes accuracy = 0.9940 \n"
     ]
    }
   ],
   "source": [
    "def test_naive_bayes(test_x, test_y, logprior, loglikelihood):\n",
    "  accuracy = 0\n",
    "  y_hats = []\n",
    "  for tweet in test_x:\n",
    "    if naive_bayes_predict(tweet, logprior, loglikelihood) > 0:\n",
    "      y_hat_i = 1\n",
    "    else:\n",
    "      y_hat_i = 0\n",
    "    y_hats.append(y_hat_i)\n",
    "  error = np.mean(np.absolute(test_y - y_hats))\n",
    "  accuracy = 1-error\n",
    "\n",
    "  return accuracy\n",
    "  \n",
    "print(\"Naive Bayes accuracy = %0.4f \" %\n",
    "      (test_naive_bayes(test_x, test_y, logprior, loglikelihood)))"
   ]
  },
  {
   "cell_type": "code",
   "execution_count": 86,
   "id": "ae454904",
   "metadata": {},
   "outputs": [
    {
     "name": "stdout",
     "output_type": "stream",
     "text": [
      "I am happy::positivesentment(2.15)\n",
      "iam bad::negativesentment(-2.39)\n",
      "great::positivesentment(2.14)\n"
     ]
    }
   ],
   "source": [
    "# make predictions on our own tweets\n",
    "tweets = ['I am happy','iam bad','great']\n",
    "for tweet in tweets:\n",
    "    p = naive_bayes_predict(tweet,logprior,loglikelihood)\n",
    "    if p>1:\n",
    "        print(f'{tweet}::positivesentment({p:.2f})')\n",
    "    else:\n",
    "        print(f'{tweet}::negativesentment({p:.2f})')"
   ]
  },
  {
   "cell_type": "code",
   "execution_count": null,
   "id": "e6ed27af",
   "metadata": {},
   "outputs": [],
   "source": []
  },
  {
   "cell_type": "markdown",
   "id": "f9620d87",
   "metadata": {},
   "source": [
    "#  Confusion matrix\n"
   ]
  },
  {
   "cell_type": "code",
   "execution_count": 3,
   "id": "3c1583c4",
   "metadata": {},
   "outputs": [],
   "source": [
    "# import numpy as np\n",
    "# import pandas as pd\n",
    "\n",
    "# #method:1 Requires Model\n",
    "# from sklearn.metrics import plot_confusion_matrix\n",
    "\n",
    "# #Method:2 Requires actual and predict features\n",
    "# from sklearn.linear_model import LogisticRegression\n",
    "\n",
    "# #train test pattition\n",
    "# from sklearn.model_selection import train_test_split\n",
    "\n",
    "# #get Data Import Path\n",
    "# import os\n",
    "# for dirname, _, filenames in os.walk('/kaggle/input'):\n",
    "#     for filename in filenames:\n",
    "#         print(os.path.join(dirname, filename))"
   ]
  },
  {
   "cell_type": "code",
   "execution_count": null,
   "id": "a65f5681",
   "metadata": {},
   "outputs": [],
   "source": []
  }
 ],
 "metadata": {
  "kernelspec": {
   "display_name": "Python 3 (ipykernel)",
   "language": "python",
   "name": "python3"
  },
  "language_info": {
   "codemirror_mode": {
    "name": "ipython",
    "version": 3
   },
   "file_extension": ".py",
   "mimetype": "text/x-python",
   "name": "python",
   "nbconvert_exporter": "python",
   "pygments_lexer": "ipython3",
   "version": "3.9.12"
  }
 },
 "nbformat": 4,
 "nbformat_minor": 5
}
