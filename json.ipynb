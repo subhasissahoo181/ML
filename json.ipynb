{
 "cells": [
  {
   "cell_type": "code",
   "execution_count": null,
   "id": "462c21a7",
   "metadata": {},
   "outputs": [],
   "source": []
  },
  {
   "cell_type": "code",
   "execution_count": null,
   "id": "ce6c5be6",
   "metadata": {},
   "outputs": [],
   "source": []
  },
  {
   "cell_type": "markdown",
   "id": "156a62e8",
   "metadata": {},
   "source": [
    "##  json\n"
   ]
  },
  {
   "cell_type": "code",
   "execution_count": 1,
   "id": "f45e9a12",
   "metadata": {},
   "outputs": [
    {
     "name": "stdout",
     "output_type": "stream",
     "text": [
      "Requirement already satisfied: matplotlib in c:\\users\\subha\\anaconda3\\lib\\site-packages (3.5.1)\n",
      "Requirement already satisfied: cycler>=0.10 in c:\\users\\subha\\anaconda3\\lib\\site-packages (from matplotlib) (0.11.0)\n",
      "Requirement already satisfied: pillow>=6.2.0 in c:\\users\\subha\\anaconda3\\lib\\site-packages (from matplotlib) (9.0.1)\n",
      "Requirement already satisfied: kiwisolver>=1.0.1 in c:\\users\\subha\\anaconda3\\lib\\site-packages (from matplotlib) (1.3.2)\n",
      "Requirement already satisfied: packaging>=20.0 in c:\\users\\subha\\anaconda3\\lib\\site-packages (from matplotlib) (21.3)\n",
      "Requirement already satisfied: fonttools>=4.22.0 in c:\\users\\subha\\anaconda3\\lib\\site-packages (from matplotlib) (4.25.0)\n",
      "Requirement already satisfied: numpy>=1.17 in c:\\users\\subha\\anaconda3\\lib\\site-packages (from matplotlib) (1.21.5)\n",
      "Requirement already satisfied: pyparsing>=2.2.1 in c:\\users\\subha\\anaconda3\\lib\\site-packages (from matplotlib) (3.0.4)\n",
      "Requirement already satisfied: python-dateutil>=2.7 in c:\\users\\subha\\anaconda3\\lib\\site-packages (from matplotlib) (2.8.2)\n",
      "Requirement already satisfied: six>=1.5 in c:\\users\\subha\\anaconda3\\lib\\site-packages (from python-dateutil>=2.7->matplotlib) (1.16.0)\n"
     ]
    }
   ],
   "source": [
    "!pip install matplotlib"
   ]
  },
  {
   "cell_type": "code",
   "execution_count": 1,
   "id": "4fe4b4d5",
   "metadata": {},
   "outputs": [],
   "source": [
    "import json\n",
    "import csv\n"
   ]
  },
  {
   "cell_type": "code",
   "execution_count": 2,
   "id": "bfe2d7a9",
   "metadata": {},
   "outputs": [
    {
     "ename": "SyntaxError",
     "evalue": "invalid syntax (1194774803.py, line 5)",
     "output_type": "error",
     "traceback": [
      "\u001b[1;36m  Input \u001b[1;32mIn [2]\u001b[1;36m\u001b[0m\n\u001b[1;33m    with open = (data, encoding='utf-8') as f_in:\u001b[0m\n\u001b[1;37m              ^\u001b[0m\n\u001b[1;31mSyntaxError\u001b[0m\u001b[1;31m:\u001b[0m invalid syntax\n"
     ]
    }
   ],
   "source": [
    " import json\n",
    "#     data='/JSON.json'\n",
    "#     print (\"This is json data \", \"r\")\n",
    "#     def js_r(data):s\n",
    "with open = (data, encoding='utf-8') as f_in:\n",
    "    return(json.load(f_in))\n",
    "\n",
    "# if __name__ == \"__main__\":\n",
    "#     dic_data_first = js_r(data)\n",
    "#     print(\"This is my dictionary\", dic_data_first)\n",
    "# keys= dic_data_first.keys():\n",
    "#     print (\"The original dict keys\",keys)\n",
    "#     dic_data_second={'my_items':dic_data_first['Data']for key in keys}\n",
    "# with open('/JSON.json', 'w') as f:   \n",
    "#          json.dump(dic_data_first, f)\n",
    "# df = sqlContext.read.json('dbfs:/JSON.json')   # reading a json and writing a  parquet\n",
    "#     print(df)"
   ]
  },
  {
   "cell_type": "code",
   "execution_count": 3,
   "id": "e466e137",
   "metadata": {},
   "outputs": [
    {
     "name": "stdout",
     "output_type": "stream",
     "text": [
      "{\n",
      "\t\"items\":\n",
      "\t\t{\n",
      "\t\t\t\"item\":\n",
      "\t\t\t\t[\n",
      "\t\t\t\t\t{\n",
      "\t\t\t\t\t\t\"id\": \"0001\",\n",
      "\t\t\t\t\t\t\"type\": \"donut\",\n",
      "\t\t\t\t\t\t\"name\": \"Cake\",\n",
      "\t\t\t\t\t\t\"ppu\": 0.55,\n",
      "\t\t\t\t\t\t\"batters\":\n",
      "\t\t\t\t\t\t\t{\n",
      "\t\t\t\t\t\t\t\t\"batter\":\n",
      "\t\t\t\t\t\t\t\t\t[\n",
      "\t\t\t\t\t\t\t\t\t\t{ \"id\": \"1001\", \"type\": \"Regular\" },\n",
      "\t\t\t\t\t\t\t\t\t\t{ \"id\": \"1002\", \"type\": \"Chocolate\" },\n",
      "\t\t\t\t\t\t\t\t\t\t{ \"id\": \"1003\", \"type\": \"Blueberry\" },\n",
      "\t\t\t\t\t\t\t\t\t\t{ \"id\": \"1004\", \"type\": \"Devil's Food\" }\n",
      "\t\t\t\t\t\t\t\t\t]\n",
      "\t\t\t\t\t\t\t},\n",
      "\t\t\t\t\t\t\"topping\":\n",
      "\t\t\t\t\t\t\t[\n",
      "\t\t\t\t\t\t\t\t{ \"id\": \"5001\", \"type\": \"None\" },\n",
      "\t\t\t\t\t\t\t\t{ \"id\": \"5002\", \"type\": \"Glazed\" },\n",
      "\t\t\t\t\t\t\t\t{ \"id\": \"5005\", \"type\": \"Sugar\" },\n",
      "\t\t\t\t\t\t\t\t{ \"id\": \"5007\", \"type\": \"Powdered Sugar\" },\n",
      "\t\t\t\t\t\t\t\t{ \"id\": \"5006\", \"type\": \"Chocolate with Sprinkles\" },\n",
      "\t\t\t\t\t\t\t\t{ \"id\": \"5003\", \"type\": \"Chocolate\" },\n",
      "\t\t\t\t\t\t\t\t{ \"id\": \"5004\", \"type\": \"Maple\" }\n",
      "\t\t\t\t\t\t\t]\n",
      "\t\t\t\t\t}\n",
      "\t\t\t\t]\n",
      "\t\t}\n"
     ]
    }
   ],
   "source": [
    "with open('JSON.json', 'r') as file:\n",
    "    print(file.read())"
   ]
  },
  {
   "cell_type": "code",
   "execution_count": 4,
   "id": "f45f69db",
   "metadata": {},
   "outputs": [
    {
     "data": {
      "text/plain": [
       "{'items': 'item', 'batters': ['batter', 'topping']}"
      ]
     },
     "execution_count": 4,
     "metadata": {},
     "output_type": "execute_result"
    }
   ],
   "source": [
    "\n",
    "{\"items\": \"item\", \n",
    "\"batters\": [\"batter\", \"topping\"]\n",
    "}"
   ]
  },
  {
   "cell_type": "code",
   "execution_count": 5,
   "id": "f42d0a60",
   "metadata": {},
   "outputs": [],
   "source": [
    "person_dict = {'items': 'Cake',\n",
    "'age': 12,\n",
    "'children': None\n",
    "}\n",
    "name = json.dumps(person_dict)\n",
    "\n",
    "# Output: {\"name\": \"Bob\", \"age\": 12, \"children\": null}\n",
    "# print(person_json)"
   ]
  },
  {
   "cell_type": "code",
   "execution_count": null,
   "id": "56ee6bc6",
   "metadata": {},
   "outputs": [],
   "source": []
  },
  {
   "cell_type": "markdown",
   "id": "5a5ff4d4",
   "metadata": {},
   "source": [
    "#  Take Three excel file & retrive data"
   ]
  },
  {
   "cell_type": "code",
   "execution_count": null,
   "id": "529202da",
   "metadata": {},
   "outputs": [],
   "source": []
  }
 ],
 "metadata": {
  "kernelspec": {
   "display_name": "Python 3 (ipykernel)",
   "language": "python",
   "name": "python3"
  },
  "language_info": {
   "codemirror_mode": {
    "name": "ipython",
    "version": 3
   },
   "file_extension": ".py",
   "mimetype": "text/x-python",
   "name": "python",
   "nbconvert_exporter": "python",
   "pygments_lexer": "ipython3",
   "version": "3.9.12"
  }
 },
 "nbformat": 4,
 "nbformat_minor": 5
}
