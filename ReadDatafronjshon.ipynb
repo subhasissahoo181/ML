{
 "cells": [
  {
   "cell_type": "markdown",
   "id": "a547d7bc",
   "metadata": {},
   "source": [
    "#  Read Data From JSON"
   ]
  },
  {
   "cell_type": "markdown",
   "id": "f22df1e4",
   "metadata": {},
   "source": [
    "###  Read JSON file"
   ]
  },
  {
   "cell_type": "code",
   "execution_count": 3,
   "id": "0d3c259a",
   "metadata": {},
   "outputs": [],
   "source": [
    "import json"
   ]
  },
  {
   "cell_type": "code",
   "execution_count": 4,
   "id": "a49d8383",
   "metadata": {},
   "outputs": [],
   "source": [
    "#read the file\n",
    "dataset = open('dataset.json','r')"
   ]
  },
  {
   "cell_type": "code",
   "execution_count": 5,
   "id": "06dd6edf",
   "metadata": {},
   "outputs": [],
   "source": [
    "jsondata = dataset.read()"
   ]
  },
  {
   "cell_type": "code",
   "execution_count": 6,
   "id": "c06d1855",
   "metadata": {},
   "outputs": [],
   "source": [
    "#parse\n",
    "obj= json.loads(jsondata)\n"
   ]
  },
  {
   "cell_type": "code",
   "execution_count": 7,
   "id": "c701d64a",
   "metadata": {},
   "outputs": [
    {
     "name": "stdout",
     "output_type": "stream",
     "text": [
      "{'item': [{'id': '0001', 'type': 'donut', 'name': 'Cake', 'ppu': 0.55, 'batters': {'batter': [{'id': '1001', 'type': 'Regular'}, {'id': '1002', 'type': 'Chocolate'}, {'id': '1003', 'type': 'Blueberry'}, {'id': '1004', 'type': \"Devil's Food\"}]}, 'topping': [{'id': '5001', 'type': 'None'}, {'id': '5002', 'type': 'Glazed'}, {'id': '5005', 'type': 'Sugar'}, {'id': '5007', 'type': 'Powdered Sugar'}, {'id': '5006', 'type': 'Chocolate with Sprinkles'}, {'id': '5003', 'type': 'Chocolate'}, {'id': '5004', 'type': 'Maple'}]}]}\n"
     ]
    }
   ],
   "source": [
    "print(str(obj['items']))"
   ]
  },
  {
   "cell_type": "code",
   "execution_count": 8,
   "id": "0834de52",
   "metadata": {},
   "outputs": [
    {
     "name": "stdout",
     "output_type": "stream",
     "text": [
      "1\n"
     ]
    }
   ],
   "source": [
    "list=obj['items']\n",
    "# print(list)\n",
    "# print(list[0])\n",
    "print(len(list))"
   ]
  },
  {
   "cell_type": "code",
   "execution_count": 9,
   "id": "d10bccc4",
   "metadata": {},
   "outputs": [
    {
     "name": "stdout",
     "output_type": "stream",
     "text": [
      "item: [{'id': '0001', 'type': 'donut', 'name': 'Cake', 'ppu': 0.55, 'batters': {'batter': [{'id': '1001', 'type': 'Regular'}, {'id': '1002', 'type': 'Chocolate'}, {'id': '1003', 'type': 'Blueberry'}, {'id': '1004', 'type': \"Devil's Food\"}]}, 'topping': [{'id': '5001', 'type': 'None'}, {'id': '5002', 'type': 'Glazed'}, {'id': '5005', 'type': 'Sugar'}, {'id': '5007', 'type': 'Powdered Sugar'}, {'id': '5006', 'type': 'Chocolate with Sprinkles'}, {'id': '5003', 'type': 'Chocolate'}, {'id': '5004', 'type': 'Maple'}]}]\n"
     ]
    }
   ],
   "source": [
    "#read data \n",
    "for i in range(len(list)):\n",
    "    print(\"item:\",list.get(\"item\"))\n",
    "    "
   ]
  },
  {
   "cell_type": "code",
   "execution_count": 10,
   "id": "04788b6f",
   "metadata": {},
   "outputs": [],
   "source": [
    "#read data \n",
    "# for i in range(len(list)):\n",
    "#     print(\"batter:\",list.get(\"batter\"))"
   ]
  },
  {
   "cell_type": "code",
   "execution_count": 11,
   "id": "f7f7ede6",
   "metadata": {},
   "outputs": [
    {
     "name": "stdout",
     "output_type": "stream",
     "text": [
      "item: [{'id': '0001', 'type': 'donut', 'name': 'Cake', 'ppu': 0.55, 'batters': {'batter': [{'id': '1001', 'type': 'Regular'}, {'id': '1002', 'type': 'Chocolate'}, {'id': '1003', 'type': 'Blueberry'}, {'id': '1004', 'type': \"Devil's Food\"}]}, 'topping': [{'id': '5001', 'type': 'None'}, {'id': '5002', 'type': 'Glazed'}, {'id': '5005', 'type': 'Sugar'}, {'id': '5007', 'type': 'Powdered Sugar'}, {'id': '5006', 'type': 'Chocolate with Sprinkles'}, {'id': '5003', 'type': 'Chocolate'}, {'id': '5004', 'type': 'Maple'}]}]\n",
      "batters: None\n",
      "batters: None\n",
      "batters: None\n",
      "batters: None\n"
     ]
    }
   ],
   "source": [
    "for i in range(len(list)):\n",
    "    print(\"item:\",list.get(\"item\"))\n",
    "    for i in range(len('item')):\n",
    "        print(\"batters:\",list.get(\"batters\"))"
   ]
  },
  {
   "cell_type": "code",
   "execution_count": 12,
   "id": "7157eb62",
   "metadata": {},
   "outputs": [
    {
     "ename": "TypeError",
     "evalue": "string indices must be integers",
     "output_type": "error",
     "traceback": [
      "\u001b[1;31m---------------------------------------------------------------------------\u001b[0m",
      "\u001b[1;31mTypeError\u001b[0m                                 Traceback (most recent call last)",
      "Input \u001b[1;32mIn [12]\u001b[0m, in \u001b[0;36m<cell line: 1>\u001b[1;34m()\u001b[0m\n\u001b[0;32m      2\u001b[0m json_data \u001b[38;5;241m=\u001b[39m json\u001b[38;5;241m.\u001b[39mload(json_file)\n\u001b[0;32m      3\u001b[0m \u001b[38;5;28;01mfor\u001b[39;00m item \u001b[38;5;129;01min\u001b[39;00m json_data:\n\u001b[1;32m----> 4\u001b[0m     \u001b[38;5;28;01mfor\u001b[39;00m data_item \u001b[38;5;129;01min\u001b[39;00m \u001b[43mitem\u001b[49m\u001b[43m[\u001b[49m\u001b[38;5;124;43m'\u001b[39;49m\u001b[38;5;124;43mitem\u001b[39;49m\u001b[38;5;124;43m'\u001b[39;49m\u001b[43m]\u001b[49m:\n\u001b[0;32m      5\u001b[0m         \u001b[38;5;28mprint\u001b[39m (data_item[\u001b[38;5;124m'\u001b[39m\u001b[38;5;124mname\u001b[39m\u001b[38;5;124m'\u001b[39m], data_item[\u001b[38;5;124m'\u001b[39m\u001b[38;5;124mvalue\u001b[39m\u001b[38;5;124m'\u001b[39m])\n",
      "\u001b[1;31mTypeError\u001b[0m: string indices must be integers"
     ]
    }
   ],
   "source": [
    "with open('dataset.json') as json_file:\n",
    "    json_data = json.load(json_file)\n",
    "    for item in json_data:\n",
    "        for data_item in item['item']:\n",
    "            print (data_item['name'], data_item['value'])\n",
    "#     for key, value in json_data.items():\n",
    "#         print (key);\n",
    "#         for item in value:\n",
    "#             print(\"item:\",list.get(\"key\"))\n",
    "#             print (item)\n",
    "\n",
    "\n",
    "\n",
    "        \n",
    "     "
   ]
  },
  {
   "cell_type": "code",
   "execution_count": null,
   "id": "082803eb",
   "metadata": {},
   "outputs": [],
   "source": []
  },
  {
   "cell_type": "markdown",
   "id": "a98aff60",
   "metadata": {},
   "source": [
    "##  Take 3 excel file & combine column & retrive the data"
   ]
  },
  {
   "cell_type": "code",
   "execution_count": 72,
   "id": "23650b76",
   "metadata": {},
   "outputs": [],
   "source": [
    "# importing the module\n",
    "import pandas as pd\n",
    "  \n",
    "# reading the files\n",
    "f1 = pd.read_excel(\"student_scores_1.xlsx\")\n",
    "f2 = pd.read_excel(\"student_records_1.xlsx\")\n",
    "# f3 = pandas.read_excel(\"student_records_1.xlsx\")\n",
    "  \n",
    "# merging the files\n",
    "f4 = f1[[\"ResearchScore\",\"Hours\"]].merge(f2[[\"ResearchScore\",\"Name\", \"OverallGrade\",\"ProjectScore\",\"Recommend\"]],on = \"ResearchScore\",how = \"left\")\n",
    "  \n",
    "# creating a new file\n",
    "f4.to_excel(\"Results.xlsx\", index = False)"
   ]
  },
  {
   "cell_type": "code",
   "execution_count": 74,
   "id": "d6de9ec4",
   "metadata": {},
   "outputs": [
    {
     "data": {
      "text/plain": [
       "Index(['Hours', 'ResearchScore'], dtype='object')"
      ]
     },
     "execution_count": 74,
     "metadata": {},
     "output_type": "execute_result"
    }
   ],
   "source": [
    "f1.columns"
   ]
  },
  {
   "cell_type": "code",
   "execution_count": 75,
   "id": "5464304c",
   "metadata": {},
   "outputs": [
    {
     "data": {
      "text/plain": [
       "Index(['Name', 'OverallGrade', 'Obedient', 'ResearchScore', 'ProjectScore',\n",
       "       'Recommend'],\n",
       "      dtype='object')"
      ]
     },
     "execution_count": 75,
     "metadata": {},
     "output_type": "execute_result"
    }
   ],
   "source": [
    "f2.columns"
   ]
  },
  {
   "cell_type": "code",
   "execution_count": 73,
   "id": "fb2d6064",
   "metadata": {},
   "outputs": [],
   "source": [
    "df = pd.read_excel('Results.xlsx', usecols='A:C')"
   ]
  },
  {
   "cell_type": "code",
   "execution_count": 76,
   "id": "c992423b",
   "metadata": {},
   "outputs": [
    {
     "data": {
      "text/plain": [
       "Index(['ResearchScore', 'Hours', 'Name', 'OverallGrade', 'ProjectScore',\n",
       "       'Recommend'],\n",
       "      dtype='object')"
      ]
     },
     "execution_count": 76,
     "metadata": {},
     "output_type": "execute_result"
    }
   ],
   "source": [
    "f4.columns"
   ]
  },
  {
   "cell_type": "code",
   "execution_count": 55,
   "id": "e976e84c",
   "metadata": {},
   "outputs": [
    {
     "data": {
      "text/html": [
       "<div>\n",
       "<style scoped>\n",
       "    .dataframe tbody tr th:only-of-type {\n",
       "        vertical-align: middle;\n",
       "    }\n",
       "\n",
       "    .dataframe tbody tr th {\n",
       "        vertical-align: top;\n",
       "    }\n",
       "\n",
       "    .dataframe thead th {\n",
       "        text-align: right;\n",
       "    }\n",
       "</style>\n",
       "<table border=\"1\" class=\"dataframe\">\n",
       "  <thead>\n",
       "    <tr style=\"text-align: right;\">\n",
       "      <th></th>\n",
       "      <th>ResearchScore</th>\n",
       "      <th>Hours</th>\n",
       "      <th>Name</th>\n",
       "    </tr>\n",
       "  </thead>\n",
       "  <tbody>\n",
       "    <tr>\n",
       "      <th>0</th>\n",
       "      <td>85</td>\n",
       "      <td>2.5</td>\n",
       "      <td>John</td>\n",
       "    </tr>\n",
       "    <tr>\n",
       "      <th>1</th>\n",
       "      <td>47</td>\n",
       "      <td>5.1</td>\n",
       "      <td>NaN</td>\n",
       "    </tr>\n",
       "    <tr>\n",
       "      <th>2</th>\n",
       "      <td>27</td>\n",
       "      <td>3.2</td>\n",
       "      <td>NaN</td>\n",
       "    </tr>\n",
       "    <tr>\n",
       "      <th>3</th>\n",
       "      <td>75</td>\n",
       "      <td>8.5</td>\n",
       "      <td>Holmes</td>\n",
       "    </tr>\n",
       "    <tr>\n",
       "      <th>4</th>\n",
       "      <td>75</td>\n",
       "      <td>8.5</td>\n",
       "      <td>Trent</td>\n",
       "    </tr>\n",
       "    <tr>\n",
       "      <th>5</th>\n",
       "      <td>30</td>\n",
       "      <td>3.5</td>\n",
       "      <td>NaN</td>\n",
       "    </tr>\n",
       "    <tr>\n",
       "      <th>6</th>\n",
       "      <td>20</td>\n",
       "      <td>1.5</td>\n",
       "      <td>Marvin</td>\n",
       "    </tr>\n",
       "    <tr>\n",
       "      <th>7</th>\n",
       "      <td>88</td>\n",
       "      <td>9.2</td>\n",
       "      <td>NaN</td>\n",
       "    </tr>\n",
       "    <tr>\n",
       "      <th>8</th>\n",
       "      <td>60</td>\n",
       "      <td>5.5</td>\n",
       "      <td>Robert</td>\n",
       "    </tr>\n",
       "  </tbody>\n",
       "</table>\n",
       "</div>"
      ],
      "text/plain": [
       "   ResearchScore  Hours    Name\n",
       "0             85    2.5    John\n",
       "1             47    5.1     NaN\n",
       "2             27    3.2     NaN\n",
       "3             75    8.5  Holmes\n",
       "4             75    8.5   Trent\n",
       "5             30    3.5     NaN\n",
       "6             20    1.5  Marvin\n",
       "7             88    9.2     NaN\n",
       "8             60    5.5  Robert"
      ]
     },
     "execution_count": 55,
     "metadata": {},
     "output_type": "execute_result"
    }
   ],
   "source": [
    "df"
   ]
  },
  {
   "cell_type": "code",
   "execution_count": 64,
   "id": "4241d897",
   "metadata": {},
   "outputs": [],
   "source": [
    "data =df.to_excel(\"result.xlsx\", index = False)"
   ]
  },
  {
   "cell_type": "code",
   "execution_count": 66,
   "id": "eead7722",
   "metadata": {},
   "outputs": [],
   "source": [
    "# data = pd.read_excel('Results.xlsx)"
   ]
  },
  {
   "cell_type": "code",
   "execution_count": 67,
   "id": "fb26d0fb",
   "metadata": {},
   "outputs": [],
   "source": [
    "data"
   ]
  },
  {
   "cell_type": "code",
   "execution_count": 68,
   "id": "af2cd1f5",
   "metadata": {},
   "outputs": [],
   "source": [
    "read_file = pd.read_excel (\"result.xlsx\")\n",
    "read_file.to_csv (\"Test.csv\",index = None,header=True)\n",
    "\n",
    "df = pd.DataFrame(pd.read_csv(\"Test.csv\"))"
   ]
  },
  {
   "cell_type": "code",
   "execution_count": 69,
   "id": "3a7cac1f",
   "metadata": {},
   "outputs": [
    {
     "data": {
      "text/html": [
       "<div>\n",
       "<style scoped>\n",
       "    .dataframe tbody tr th:only-of-type {\n",
       "        vertical-align: middle;\n",
       "    }\n",
       "\n",
       "    .dataframe tbody tr th {\n",
       "        vertical-align: top;\n",
       "    }\n",
       "\n",
       "    .dataframe thead th {\n",
       "        text-align: right;\n",
       "    }\n",
       "</style>\n",
       "<table border=\"1\" class=\"dataframe\">\n",
       "  <thead>\n",
       "    <tr style=\"text-align: right;\">\n",
       "      <th></th>\n",
       "      <th>ResearchScore</th>\n",
       "      <th>Hours</th>\n",
       "      <th>Name</th>\n",
       "    </tr>\n",
       "  </thead>\n",
       "  <tbody>\n",
       "    <tr>\n",
       "      <th>0</th>\n",
       "      <td>85</td>\n",
       "      <td>2.5</td>\n",
       "      <td>John</td>\n",
       "    </tr>\n",
       "    <tr>\n",
       "      <th>1</th>\n",
       "      <td>47</td>\n",
       "      <td>5.1</td>\n",
       "      <td>NaN</td>\n",
       "    </tr>\n",
       "    <tr>\n",
       "      <th>2</th>\n",
       "      <td>27</td>\n",
       "      <td>3.2</td>\n",
       "      <td>NaN</td>\n",
       "    </tr>\n",
       "    <tr>\n",
       "      <th>3</th>\n",
       "      <td>75</td>\n",
       "      <td>8.5</td>\n",
       "      <td>Holmes</td>\n",
       "    </tr>\n",
       "    <tr>\n",
       "      <th>4</th>\n",
       "      <td>75</td>\n",
       "      <td>8.5</td>\n",
       "      <td>Trent</td>\n",
       "    </tr>\n",
       "    <tr>\n",
       "      <th>5</th>\n",
       "      <td>30</td>\n",
       "      <td>3.5</td>\n",
       "      <td>NaN</td>\n",
       "    </tr>\n",
       "    <tr>\n",
       "      <th>6</th>\n",
       "      <td>20</td>\n",
       "      <td>1.5</td>\n",
       "      <td>Marvin</td>\n",
       "    </tr>\n",
       "    <tr>\n",
       "      <th>7</th>\n",
       "      <td>88</td>\n",
       "      <td>9.2</td>\n",
       "      <td>NaN</td>\n",
       "    </tr>\n",
       "    <tr>\n",
       "      <th>8</th>\n",
       "      <td>60</td>\n",
       "      <td>5.5</td>\n",
       "      <td>Robert</td>\n",
       "    </tr>\n",
       "  </tbody>\n",
       "</table>\n",
       "</div>"
      ],
      "text/plain": [
       "   ResearchScore  Hours    Name\n",
       "0             85    2.5    John\n",
       "1             47    5.1     NaN\n",
       "2             27    3.2     NaN\n",
       "3             75    8.5  Holmes\n",
       "4             75    8.5   Trent\n",
       "5             30    3.5     NaN\n",
       "6             20    1.5  Marvin\n",
       "7             88    9.2     NaN\n",
       "8             60    5.5  Robert"
      ]
     },
     "execution_count": 69,
     "metadata": {},
     "output_type": "execute_result"
    }
   ],
   "source": [
    "df"
   ]
  },
  {
   "cell_type": "code",
   "execution_count": null,
   "id": "f0f74709",
   "metadata": {},
   "outputs": [],
   "source": []
  },
  {
   "cell_type": "code",
   "execution_count": null,
   "id": "36dbf63f",
   "metadata": {},
   "outputs": [],
   "source": []
  }
 ],
 "metadata": {
  "kernelspec": {
   "display_name": "Python 3 (ipykernel)",
   "language": "python",
   "name": "python3"
  },
  "language_info": {
   "codemirror_mode": {
    "name": "ipython",
    "version": 3
   },
   "file_extension": ".py",
   "mimetype": "text/x-python",
   "name": "python",
   "nbconvert_exporter": "python",
   "pygments_lexer": "ipython3",
   "version": "3.9.12"
  }
 },
 "nbformat": 4,
 "nbformat_minor": 5
}
