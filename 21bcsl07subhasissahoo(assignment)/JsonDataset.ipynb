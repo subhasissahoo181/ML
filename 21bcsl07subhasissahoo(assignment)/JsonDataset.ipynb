{
  "nbformat": 4,
  "nbformat_minor": 0,
  "metadata": {
    "colab": {
      "provenance": []
    },
    "kernelspec": {
      "name": "python3",
      "display_name": "Python 3"
    },
    "language_info": {
      "name": "python"
    }
  },
  "cells": [
    {
      "cell_type": "code",
      "execution_count": 1,
      "metadata": {
        "colab": {
          "base_uri": "https://localhost:8080/"
        },
        "id": "HoFDBbgEaMwO",
        "outputId": "37f2564f-d305-4cfe-9132-a1b172675933"
      },
      "outputs": [
        {
          "output_type": "stream",
          "name": "stdout",
          "text": [
            "Mounted at /content/drive\n"
          ]
        }
      ],
      "source": [
        "from google.colab import drive\n",
        "drive.mount('/content/drive')"
      ]
    },
    {
      "cell_type": "code",
      "source": [
        "import numpy as np\n",
        "import pandas as pd\n",
        "# import matplotlib.pyplot as plt\n",
        "# data = pd.read_csv('/content/drive/MyDrive/Dataset/JSON.json')"
      ],
      "metadata": {
        "id": "jeCasHTtaN8a"
      },
      "execution_count": 3,
      "outputs": []
    },
    {
      "cell_type": "code",
      "source": [
        "import json\n",
        "import csv"
      ],
      "metadata": {
        "id": "5Knf6kjnfekW"
      },
      "execution_count": 6,
      "outputs": []
    },
    {
      "cell_type": "code",
      "source": [
        "data=pd.read_json('/content/drive/MyDrive/Dataset/hw_data.json')\n",
        "for i in range(4):\n",
        "  print(list(data['items']['item'][0]['batters']['batter'][i].values())[1])"
      ],
      "metadata": {
        "colab": {
          "base_uri": "https://localhost:8080/"
        },
        "id": "fvYrtQj_f8gr",
        "outputId": "4a07f7c0-9a1e-4dca-cb91-b1edfad54ad2"
      },
      "execution_count": 9,
      "outputs": [
        {
          "output_type": "stream",
          "name": "stdout",
          "text": [
            "Regular\n",
            "Chocolate\n",
            "Blueberry\n",
            "Devil's Food\n"
          ]
        }
      ]
    },
    {
      "cell_type": "code",
      "source": [
        "batter_dict={\n",
        "    'item_name':[data['items']['item'][0]['name'] for i in range(4)],\n",
        "    'batter_id':[list(data['items']['item'][0]['batters']['batter'][i].values())[0] for i in range(4)],\n",
        "    'batter_type':[list(data['items']['item'][0]['batters']['batter'][i].values())[1] for i in range(4)],\n",
        "    'topping_id':[list(data['items']['item'][0]['topping'][i].values())[0] for i in range(4)],\n",
        "    'topping_type':[list(data['items']['item'][0]['topping'][i].values())[1] for i in range(4)]\n",
        "}\n",
        "\n",
        "batter_df=pd.DataFrame(batter_dict)\n",
        "batter_df"
      ],
      "metadata": {
        "colab": {
          "base_uri": "https://localhost:8080/",
          "height": 175
        },
        "id": "qYpfzut1gJnC",
        "outputId": "820f92db-42fe-4d88-8b23-07b165c35699"
      },
      "execution_count": 10,
      "outputs": [
        {
          "output_type": "execute_result",
          "data": {
            "text/plain": [
              "  item_name batter_id   batter_type topping_id    topping_type\n",
              "0      Cake      1001       Regular       5001            None\n",
              "1      Cake      1002     Chocolate       5002          Glazed\n",
              "2      Cake      1003     Blueberry       5005           Sugar\n",
              "3      Cake      1004  Devil's Food       5007  Powdered Sugar"
            ],
            "text/html": [
              "\n",
              "  <div id=\"df-e3bc735c-d576-42b6-82a6-b56af172ac64\">\n",
              "    <div class=\"colab-df-container\">\n",
              "      <div>\n",
              "<style scoped>\n",
              "    .dataframe tbody tr th:only-of-type {\n",
              "        vertical-align: middle;\n",
              "    }\n",
              "\n",
              "    .dataframe tbody tr th {\n",
              "        vertical-align: top;\n",
              "    }\n",
              "\n",
              "    .dataframe thead th {\n",
              "        text-align: right;\n",
              "    }\n",
              "</style>\n",
              "<table border=\"1\" class=\"dataframe\">\n",
              "  <thead>\n",
              "    <tr style=\"text-align: right;\">\n",
              "      <th></th>\n",
              "      <th>item_name</th>\n",
              "      <th>batter_id</th>\n",
              "      <th>batter_type</th>\n",
              "      <th>topping_id</th>\n",
              "      <th>topping_type</th>\n",
              "    </tr>\n",
              "  </thead>\n",
              "  <tbody>\n",
              "    <tr>\n",
              "      <th>0</th>\n",
              "      <td>Cake</td>\n",
              "      <td>1001</td>\n",
              "      <td>Regular</td>\n",
              "      <td>5001</td>\n",
              "      <td>None</td>\n",
              "    </tr>\n",
              "    <tr>\n",
              "      <th>1</th>\n",
              "      <td>Cake</td>\n",
              "      <td>1002</td>\n",
              "      <td>Chocolate</td>\n",
              "      <td>5002</td>\n",
              "      <td>Glazed</td>\n",
              "    </tr>\n",
              "    <tr>\n",
              "      <th>2</th>\n",
              "      <td>Cake</td>\n",
              "      <td>1003</td>\n",
              "      <td>Blueberry</td>\n",
              "      <td>5005</td>\n",
              "      <td>Sugar</td>\n",
              "    </tr>\n",
              "    <tr>\n",
              "      <th>3</th>\n",
              "      <td>Cake</td>\n",
              "      <td>1004</td>\n",
              "      <td>Devil's Food</td>\n",
              "      <td>5007</td>\n",
              "      <td>Powdered Sugar</td>\n",
              "    </tr>\n",
              "  </tbody>\n",
              "</table>\n",
              "</div>\n",
              "      <button class=\"colab-df-convert\" onclick=\"convertToInteractive('df-e3bc735c-d576-42b6-82a6-b56af172ac64')\"\n",
              "              title=\"Convert this dataframe to an interactive table.\"\n",
              "              style=\"display:none;\">\n",
              "        \n",
              "  <svg xmlns=\"http://www.w3.org/2000/svg\" height=\"24px\"viewBox=\"0 0 24 24\"\n",
              "       width=\"24px\">\n",
              "    <path d=\"M0 0h24v24H0V0z\" fill=\"none\"/>\n",
              "    <path d=\"M18.56 5.44l.94 2.06.94-2.06 2.06-.94-2.06-.94-.94-2.06-.94 2.06-2.06.94zm-11 1L8.5 8.5l.94-2.06 2.06-.94-2.06-.94L8.5 2.5l-.94 2.06-2.06.94zm10 10l.94 2.06.94-2.06 2.06-.94-2.06-.94-.94-2.06-.94 2.06-2.06.94z\"/><path d=\"M17.41 7.96l-1.37-1.37c-.4-.4-.92-.59-1.43-.59-.52 0-1.04.2-1.43.59L10.3 9.45l-7.72 7.72c-.78.78-.78 2.05 0 2.83L4 21.41c.39.39.9.59 1.41.59.51 0 1.02-.2 1.41-.59l7.78-7.78 2.81-2.81c.8-.78.8-2.07 0-2.86zM5.41 20L4 18.59l7.72-7.72 1.47 1.35L5.41 20z\"/>\n",
              "  </svg>\n",
              "      </button>\n",
              "      \n",
              "  <style>\n",
              "    .colab-df-container {\n",
              "      display:flex;\n",
              "      flex-wrap:wrap;\n",
              "      gap: 12px;\n",
              "    }\n",
              "\n",
              "    .colab-df-convert {\n",
              "      background-color: #E8F0FE;\n",
              "      border: none;\n",
              "      border-radius: 50%;\n",
              "      cursor: pointer;\n",
              "      display: none;\n",
              "      fill: #1967D2;\n",
              "      height: 32px;\n",
              "      padding: 0 0 0 0;\n",
              "      width: 32px;\n",
              "    }\n",
              "\n",
              "    .colab-df-convert:hover {\n",
              "      background-color: #E2EBFA;\n",
              "      box-shadow: 0px 1px 2px rgba(60, 64, 67, 0.3), 0px 1px 3px 1px rgba(60, 64, 67, 0.15);\n",
              "      fill: #174EA6;\n",
              "    }\n",
              "\n",
              "    [theme=dark] .colab-df-convert {\n",
              "      background-color: #3B4455;\n",
              "      fill: #D2E3FC;\n",
              "    }\n",
              "\n",
              "    [theme=dark] .colab-df-convert:hover {\n",
              "      background-color: #434B5C;\n",
              "      box-shadow: 0px 1px 3px 1px rgba(0, 0, 0, 0.15);\n",
              "      filter: drop-shadow(0px 1px 2px rgba(0, 0, 0, 0.3));\n",
              "      fill: #FFFFFF;\n",
              "    }\n",
              "  </style>\n",
              "\n",
              "      <script>\n",
              "        const buttonEl =\n",
              "          document.querySelector('#df-e3bc735c-d576-42b6-82a6-b56af172ac64 button.colab-df-convert');\n",
              "        buttonEl.style.display =\n",
              "          google.colab.kernel.accessAllowed ? 'block' : 'none';\n",
              "\n",
              "        async function convertToInteractive(key) {\n",
              "          const element = document.querySelector('#df-e3bc735c-d576-42b6-82a6-b56af172ac64');\n",
              "          const dataTable =\n",
              "            await google.colab.kernel.invokeFunction('convertToInteractive',\n",
              "                                                     [key], {});\n",
              "          if (!dataTable) return;\n",
              "\n",
              "          const docLinkHtml = 'Like what you see? Visit the ' +\n",
              "            '<a target=\"_blank\" href=https://colab.research.google.com/notebooks/data_table.ipynb>data table notebook</a>'\n",
              "            + ' to learn more about interactive tables.';\n",
              "          element.innerHTML = '';\n",
              "          dataTable['output_type'] = 'display_data';\n",
              "          await google.colab.output.renderOutput(dataTable, element);\n",
              "          const docLink = document.createElement('div');\n",
              "          docLink.innerHTML = docLinkHtml;\n",
              "          element.appendChild(docLink);\n",
              "        }\n",
              "      </script>\n",
              "    </div>\n",
              "  </div>\n",
              "  "
            ]
          },
          "metadata": {},
          "execution_count": 10
        }
      ]
    },
    {
      "cell_type": "code",
      "source": [
        "batter_df.to_csv('/content/drive/MyDrive/Dataset/cake.csv')"
      ],
      "metadata": {
        "id": "V8gXjzVDg9zR"
      },
      "execution_count": 11,
      "outputs": []
    },
    {
      "cell_type": "code",
      "source": [
        "import json\n",
        "\n",
        "def get_value(data, keys):\n",
        "    if len(keys) == 1:\n",
        "        return data.get(keys[0])\n",
        "    else:\n",
        "        key = keys[0]\n",
        "        remaining_keys = keys[1:]\n",
        "        if isinstance(data, dict):\n",
        "            if key in data:\n",
        "                return get_value(data[key], remaining_keys)\n",
        "        elif isinstance(data, list):\n",
        "            result = []\n",
        "            for item in data:\n",
        "                value = get_value(item, keys)\n",
        "                if value is not None:\n",
        "                    result.append(value)\n",
        "            return result\n",
        "    return None\n",
        "\n",
        "# Open the JSON file and load its contents\n",
        "with open('/content/drive/MyDrive/Dataset/hw_data.json') as json_file:\n",
        "    data = json.load(json_file)\n",
        "\n",
        "# Example:Accessing nested data\n",
        "keys = ['name', 'batter', 'topping']\n",
        "value = get_value(data, keys)\n",
        "\n",
        "print('Value:', value)"
      ],
      "metadata": {
        "colab": {
          "base_uri": "https://localhost:8080/"
        },
        "id": "c8EncJLbhYej",
        "outputId": "a5fa1048-8f98-463b-c46f-e78a2bb4ca7c"
      },
      "execution_count": 14,
      "outputs": [
        {
          "output_type": "stream",
          "name": "stdout",
          "text": [
            "Value: None\n"
          ]
        }
      ]
    },
    {
      "cell_type": "code",
      "source": [
        "from typing import ItemsView\n",
        "with open('/content/drive/MyDrive/Dataset/hw_data.json') as json_file:\n",
        "  df={}\n",
        "\n",
        "  data = json.load(json_file)\n",
        "  for i in data:\n",
        "    items=[data.keys()]\n",
        "    \n",
        "\n",
        "\n",
        "    "
      ],
      "metadata": {
        "id": "PeZtsg8_hbq6"
      },
      "execution_count": 15,
      "outputs": []
    },
    {
      "cell_type": "code",
      "source": [
        "f={\"id\": \"1001\", \"type\": \"Regular\"}\n",
        "type(f.keys())"
      ],
      "metadata": {
        "colab": {
          "base_uri": "https://localhost:8080/"
        },
        "id": "B58n0BR3hm-S",
        "outputId": "3fc5f20e-6abd-420c-a0e2-e9bd0bf0dbb5"
      },
      "execution_count": 16,
      "outputs": [
        {
          "output_type": "execute_result",
          "data": {
            "text/plain": [
              "dict_keys"
            ]
          },
          "metadata": {},
          "execution_count": 16
        }
      ]
    },
    {
      "cell_type": "code",
      "source": [],
      "metadata": {
        "id": "HiDqhJRKhqOC"
      },
      "execution_count": null,
      "outputs": []
    }
  ]
}