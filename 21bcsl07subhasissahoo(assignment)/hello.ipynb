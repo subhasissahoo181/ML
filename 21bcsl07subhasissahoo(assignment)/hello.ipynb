{
 "cells": [
  {
   "cell_type": "code",
   "execution_count": 1,
   "id": "0610436a",
   "metadata": {},
   "outputs": [
    {
     "name": "stdout",
     "output_type": "stream",
     "text": [
      "Writing complete\n"
     ]
    }
   ],
   "source": [
    "import csv\n",
    "with open('Python.csv', 'w') as csvfile:\n",
    "    fieldnames = ['first_name','last_name','Rank']\n",
    "    writer = csv.DictWriter(csvfile,fieldnames = fieldnames)\n",
    "    \n",
    "    writer.writeheader()\n",
    "    writer.writerow({'Rank':'B','first_name':'Subhasis','last_name':'Sahoo'})\n",
    "    writer.writerow({'Rank':'A','first_name':'Smith','last_name':'sahoo'})\n",
    "print(\"Writing complete\")"
   ]
  },
  {
   "cell_type": "code",
   "execution_count": null,
   "id": "c72af945",
   "metadata": {},
   "outputs": [],
   "source": []
  }
 ],
 "metadata": {
  "kernelspec": {
   "display_name": "Python 3 (ipykernel)",
   "language": "python",
   "name": "python3"
  },
  "language_info": {
   "codemirror_mode": {
    "name": "ipython",
    "version": 3
   },
   "file_extension": ".py",
   "mimetype": "text/x-python",
   "name": "python",
   "nbconvert_exporter": "python",
   "pygments_lexer": "ipython3",
   "version": "3.9.12"
  }
 },
 "nbformat": 4,
 "nbformat_minor": 5
}
